{
  "cells": [
    {
      "cell_type": "markdown",
      "metadata": {
        "id": "C1IlN3SnZT3j"
      },
      "source": [
        "# School Method for Solving Systems of Linear Equations"
      ]
    },
    {
      "cell_type": "code",
      "execution_count": 41,
      "metadata": {
        "id": "q6S_HFuYZT3l"
      },
      "outputs": [],
      "source": [
        "import sympy as sp\n",
        "from sympy import symbols, Eq, expand, solve\n",
        "\n",
        "class EnhancedEq(Eq):\n",
        "    def __add__(self, other):\n",
        "        return EnhancedEq(self.lhs + other.lhs, self.rhs + other.rhs)\n",
        "\n",
        "    def __sub__(self, other):\n",
        "        return EnhancedEq(self.lhs - other.lhs, self.rhs - other.rhs)\n",
        "\n",
        "    def __mul__(self, scalar):\n",
        "        return EnhancedEq(scalar * self.lhs, scalar * self.rhs)\n",
        "\n",
        "    def __rmul__(self, scalar):\n",
        "        return self.__mul__(scalar)\n",
        "\n",
        "    def simplify(self):\n",
        "        return EnhancedEq(expand(self.lhs), expand(self.rhs))\n",
        "\n",
        "    def substitute(self, *args, **kwargs):\n",
        "        return EnhancedEq(self.lhs.subs(*args, **kwargs), self.rhs.subs(*args, **kwargs))\n",
        "\n",
        "    def solve_for(self, symbol):\n",
        "        return solve(self, symbol)\n",
        "\n",
        "# Example usage:\n",
        "x, y, z= symbols('x y z')\n",
        "\n",
        "# Define equations\n",
        "eq1 = EnhancedEq(2*x + y, 5)\n",
        "eq2 = EnhancedEq(x - y, 1)"
      ]
    },
    {
      "cell_type": "code",
      "execution_count": 4,
      "metadata": {
        "colab": {
          "base_uri": "https://localhost:8080/",
          "height": 56
        },
        "id": "I1ub29CBZT3o",
        "outputId": "4ed8d465-1e12-4004-d124-edbb09421859"
      },
      "outputs": [
        {
          "output_type": "stream",
          "name": "stdout",
          "text": [
            "First equation:\n"
          ]
        },
        {
          "output_type": "execute_result",
          "data": {
            "text/plain": [
              "Eq(2*x + y, 5)"
            ],
            "text/latex": "$\\displaystyle 2 x + y = 5$"
          },
          "metadata": {},
          "execution_count": 4
        }
      ],
      "source": [
        "print(\"First equation:\")\n",
        "eq1"
      ]
    },
    {
      "cell_type": "code",
      "execution_count": 5,
      "metadata": {
        "colab": {
          "base_uri": "https://localhost:8080/",
          "height": 56
        },
        "id": "ZNWNuo36ZT3p",
        "outputId": "c1b252c1-6d1f-4095-e702-932de83de23e"
      },
      "outputs": [
        {
          "output_type": "stream",
          "name": "stdout",
          "text": [
            "Second equation:\n"
          ]
        },
        {
          "output_type": "execute_result",
          "data": {
            "text/plain": [
              "Eq(x - y, 1)"
            ],
            "text/latex": "$\\displaystyle x - y = 1$"
          },
          "metadata": {},
          "execution_count": 5
        }
      ],
      "source": [
        "print(\"Second equation:\")\n",
        "eq2"
      ]
    },
    {
      "cell_type": "code",
      "execution_count": 6,
      "metadata": {
        "colab": {
          "base_uri": "https://localhost:8080/",
          "height": 38
        },
        "id": "4E4XH6piZT3q",
        "outputId": "ae2e89fc-089e-40a6-91eb-2cbb35cc783a"
      },
      "outputs": [
        {
          "output_type": "execute_result",
          "data": {
            "text/plain": [
              "Eq(3*x, 6)"
            ],
            "text/latex": "$\\displaystyle 3 x = 6$"
          },
          "metadata": {},
          "execution_count": 6
        }
      ],
      "source": [
        "# Add the equations\n",
        "eq3 = eq1 + eq2\n",
        "eq3"
      ]
    },
    {
      "cell_type": "code",
      "execution_count": 12,
      "metadata": {
        "colab": {
          "base_uri": "https://localhost:8080/",
          "height": 37
        },
        "id": "V6sSgg26ZT3q",
        "outputId": "fa07cc14-8408-4434-df75-b131e5e7ae83"
      },
      "outputs": [
        {
          "output_type": "execute_result",
          "data": {
            "text/plain": [
              "2"
            ],
            "text/latex": "$\\displaystyle 2$"
          },
          "metadata": {},
          "execution_count": 12
        }
      ],
      "source": [
        "# We have an equation with one unknown, so we can solve it\n",
        "sol_x = eq3.solve_for(x)[0]\n",
        "sol_x"
      ]
    },
    {
      "cell_type": "code",
      "execution_count": 32,
      "metadata": {
        "colab": {
          "base_uri": "https://localhost:8080/",
          "height": 38
        },
        "id": "kkyUjycbZT3r",
        "outputId": "41d8d53f-0976-4fc0-a070-cb96ccf46ec6"
      },
      "outputs": [
        {
          "output_type": "execute_result",
          "data": {
            "text/plain": [
              "Eq(2 - y, 1)"
            ],
            "text/latex": "$\\displaystyle 2 - y = 1$"
          },
          "metadata": {},
          "execution_count": 32
        }
      ],
      "source": [
        "# Substitute the solution into equation 2\n",
        "eq2 = eq2.substitute(x, sol_x)\n",
        "eq2"
      ]
    },
    {
      "cell_type": "code",
      "execution_count": 14,
      "metadata": {
        "colab": {
          "base_uri": "https://localhost:8080/",
          "height": 37
        },
        "id": "bmk1DbX0ZT3s",
        "outputId": "9eddd4b7-21fa-4590-b366-c3a3c0c0beb8"
      },
      "outputs": [
        {
          "output_type": "execute_result",
          "data": {
            "text/plain": [
              "1"
            ],
            "text/latex": "$\\displaystyle 1$"
          },
          "metadata": {},
          "execution_count": 14
        }
      ],
      "source": [
        "# We get an equation with one unknown, so we can solve it\n",
        "eq2.solve_for(y)[0]"
      ]
    },
    {
      "cell_type": "code",
      "execution_count": 15,
      "metadata": {
        "colab": {
          "base_uri": "https://localhost:8080/"
        },
        "id": "vMvNglI9ZT3s",
        "outputId": "0dd32342-36a0-4375-dd89-1a9c317320ab"
      },
      "outputs": [
        {
          "output_type": "execute_result",
          "data": {
            "text/plain": [
              "{x: 2, y: 1}"
            ]
          },
          "metadata": {},
          "execution_count": 15
        }
      ],
      "source": [
        "# Thus x=2, y=1\n",
        "# Verify with sympy\n",
        "sp.solve([eq1, eq2])"
      ]
    },
    {
      "cell_type": "markdown",
      "metadata": {
        "id": "JMhf-H2eZT3t"
      },
      "source": [
        "---\n",
        "\n",
        "### Exercises for Students\n",
        "\n",
        "Solve the following systems of equations similarly to the example above:\n",
        "\n",
        "* $3x-2y=5, \\quad 2x+3y=7$,\n",
        "* $2x-3y=10, \\quad 4x+5y=20$,\n",
        "* $2x - y + z = 3, \\quad x + 2y - z = 1, \\quad 3x - y + 2z = 11$.\n",
        "* $2x-3y+4z+2t=2, \\quad 3x+2y-5z+3t=3, \\quad 4x-3y+2z-5t=4, \\quad 5x+4y-3z+2t=5$."
      ]
    },
    {
      "cell_type": "code",
      "source": [
        "#1\n",
        "\n",
        "ex1 = EnhancedEq(3*x-2*y, 5)*-2\n",
        "ex2 = EnhancedEq(2*x+3*y, 7)*3\n",
        "ex3 = ex1 + ex2\n",
        "ex3\n",
        "\n",
        "sol_y = ex3.solve_for(y)[0]\n",
        "ex2 = ex2.substitute(y, sol_y)\n",
        "sol_x = ex2.solve_for(x)[0]\n",
        "sol_x,sol_y"
      ],
      "metadata": {
        "colab": {
          "base_uri": "https://localhost:8080/"
        },
        "id": "JdqHXJGtaSuA",
        "outputId": "359fcca4-7f06-43ea-853e-04a93e0a1e8b"
      },
      "execution_count": 35,
      "outputs": [
        {
          "output_type": "execute_result",
          "data": {
            "text/plain": [
              "(29/13, 11/13)"
            ]
          },
          "metadata": {},
          "execution_count": 35
        }
      ]
    },
    {
      "cell_type": "code",
      "source": [
        "#2\n",
        "ex1 = EnhancedEq(2*x-3*y, 10)*-2\n",
        "ex2 = EnhancedEq(4*x+5*y, 20)\n",
        "ex3 = ex1 + ex2\n",
        "\n",
        "sol_y = ex3.solve_for(y)[0]\n",
        "ex2 = ex2.substitute(y, sol_y)\n",
        "sol_x = ex2.solve_for(x)[0]\n",
        "sol_x,sol_y"
      ],
      "metadata": {
        "id": "sSD_eeDDcHuW",
        "outputId": "b83b092d-7dd3-4d60-d02f-89a5faec69fd",
        "colab": {
          "base_uri": "https://localhost:8080/"
        }
      },
      "execution_count": 38,
      "outputs": [
        {
          "output_type": "execute_result",
          "data": {
            "text/plain": [
              "(5, 0)"
            ]
          },
          "metadata": {},
          "execution_count": 38
        }
      ]
    },
    {
      "cell_type": "code",
      "source": [
        "#3 cramer\n",
        "\n",
        "m3 = sp.Matrix([[2,-1,1],\n",
        "                [1,2,-1],\n",
        "                [3,-1,2]])\n",
        "\n",
        "D = m3.det()\n",
        "\n",
        "m2 = sp.Matrix([[3],[1],[11]])\n",
        "\n",
        "Dx = sp.Matrix([[3,-1,1],\n",
        "                [1,2,-1],\n",
        "                [11,-1,2]])\n",
        "\n",
        "Dy = sp.Matrix([[2,3,1],\n",
        "                [1,1,-1],\n",
        "                [3,11,2]])\n",
        "\n",
        "Dz = sp.Matrix([[2,-1,3],\n",
        "                [1,2,1],\n",
        "                [3,-1,11]])\n",
        "\n",
        "x = Dx.det()/D\n",
        "y = Dy.det()/D\n",
        "z = Dz.det()/D\n",
        "\n",
        "print(x,y,z)"
      ],
      "metadata": {
        "id": "VtEtKucTcedO",
        "outputId": "02785a8a-63b5-4b2a-df03-1cd7490ba329",
        "colab": {
          "base_uri": "https://localhost:8080/"
        }
      },
      "execution_count": 44,
      "outputs": [
        {
          "output_type": "stream",
          "name": "stdout",
          "text": [
            "-1/4 19/4 33/4\n"
          ]
        }
      ]
    },
    {
      "cell_type": "code",
      "source": [
        "#4 cramer\n",
        "\n",
        "m4 = sp.Matrix([[2,-3,4,2],\n",
        "                [3,2,-5,3],\n",
        "                [4,-3,2,-5],\n",
        "                [5,4,-3,2]])\n",
        "\n",
        "D = m4.det()\n",
        "\n",
        "Dx = sp.Matrix([[2,-3,4,2],\n",
        "                [3,2,-5,3],\n",
        "                [4,-3,2,-5],\n",
        "                [5,4,-3,2]]).det()\n",
        "\n",
        "Dy = sp.Matrix([[2,2,4,2],\n",
        "                [3,3,-5,3],\n",
        "                [4,4,2,-5],\n",
        "                [5,5,-3,2]]).det()\n",
        "\n",
        "Dz = sp.Matrix([[2,-3,2,2],\n",
        "                [3,2,3,3],\n",
        "                [4,-3,4,-5],\n",
        "                [5,4,5,2]]).det()\n",
        "\n",
        "Dt = sp.Matrix([[2,-3,4,2],\n",
        "                [3,2,-5,3],\n",
        "                [4,-3,2,4],\n",
        "                [5,4,-3,5]]).det()\n",
        "\n",
        "x = Dx/D\n",
        "y = Dy/D\n",
        "z = Dz/D\n",
        "t = Dt/D\n",
        "\n",
        "print(x,y,z,t)"
      ],
      "metadata": {
        "id": "fA-RDFJgd9rN",
        "outputId": "479117ce-fc0d-487b-f7ab-fb69eff84f84",
        "colab": {
          "base_uri": "https://localhost:8080/"
        }
      },
      "execution_count": 46,
      "outputs": [
        {
          "output_type": "stream",
          "name": "stdout",
          "text": [
            "1 0 0 0\n"
          ]
        }
      ]
    }
  ],
  "metadata": {
    "kernelspec": {
      "display_name": "Python 3",
      "language": "python",
      "name": "python3"
    },
    "language_info": {
      "codemirror_mode": {
        "name": "ipython",
        "version": 3
      },
      "file_extension": ".py",
      "mimetype": "text/x-python",
      "name": "python",
      "nbconvert_exporter": "python",
      "pygments_lexer": "ipython3",
      "version": "3.11.9"
    },
    "colab": {
      "provenance": []
    }
  },
  "nbformat": 4,
  "nbformat_minor": 0
}